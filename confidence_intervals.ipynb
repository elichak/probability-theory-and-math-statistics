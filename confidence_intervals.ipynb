{
 "cells": [
  {
   "cell_type": "code",
   "execution_count": 1,
   "id": "1f43683f",
   "metadata": {},
   "outputs": [],
   "source": [
    "import numpy as np\n",
    "import scipy.stats as sts\n",
    "import matplotlib.pyplot as plt\n",
    "import math\n"
   ]
  },
  {
   "cell_type": "code",
   "execution_count": 2,
   "id": "9dcb38b2",
   "metadata": {},
   "outputs": [],
   "source": [
    "def confidence_interval(alpha, data = None):\n",
    "    \"\"\"Provides five types of confidence intervals: 1. Confidence interval for the mean with known variance\\n 2.\n",
    "Confidence interval for the varience with known mean\\n\n",
    "3. Both parameters are unknown\\n\n",
    "4. Prediction interval\\n\n",
    "5. Correlation coefficient for a multinomial distribution\\n\n",
    "6. Confidence interval for the fraction\"\"\"\n",
    "    type_ = input('Choose type\\n 1. Confidence interval for the mean with known variance\\n 2.\\\n",
    "Confidence interval for the varience with known mean\\n\\\n",
    "3. Both parameters are unknown\\n\\\n",
    "4. Prediction interval\\n\\\n",
    "5. Correlation coefficient for a multinomial distribution\\n\\\n",
    "6. Confidence interval for the fraction\\n')\n",
    "    if type_ == '1':\n",
    "        sigma = math.sqrt(float(input('Enter varience = ')))\n",
    "        theta_1 = data.mean() - sts.norm().isf(alpha/2) * sigma / math.sqrt(len(data))\n",
    "        theta_2 = data.mean() + sts.norm().isf(alpha/2) * sigma / math.sqrt(len(data))\n",
    "        accuracy = (theta_2 - theta_1)/2\n",
    "        estimation = (theta_2 + theta_1)/2\n",
    "        print('_____________________________________________________________________________')\n",
    "        print(f'I = {theta_1, theta_2}\\n\\\n",
    "estimation = {estimation}\\n\\\n",
    "with accuracy = {accuracy}')\n",
    "    elif type_ == '2':\n",
    "        mu = float(input('Enter mean = '))\n",
    "        S_0 = math.sqrt(1/len(data) * sum((data - mu)**2))\n",
    "        theta_1 = len(data) * S_0**2/sts.chi2(len(data)).isf(alpha/2)\n",
    "        theta_2 = len(data) * S_0**2/sts.chi2(len(data)).isf(1 - alpha/2)\n",
    "        accuracy = (theta_2 - theta_1)/2\n",
    "        estimation = (theta_2 + theta_1)/2\n",
    "        print('_____________________________________________________________________________')\n",
    "        print(f'I = {theta_1, theta_2}\\n\\\n",
    "estimation = {estimation}\\n\\\n",
    "with accuracy = {accuracy}')\n",
    "    elif type_ == '3':\n",
    "        X_ = data.mean()\n",
    "        S = data.std(ddof = 1)\n",
    "        mu_b = X_ - sts.t(len(data) - 1).isf(alpha/2) * S / math.sqrt(len(data))\n",
    "        mu_u = X_ + sts.t(len(data) - 1).isf(alpha/2) * S / math.sqrt(len(data))\n",
    "        mu_estimated = (mu_b + mu_u)/2\n",
    "        mu_accuracy = (mu_u - mu_b)/2\n",
    "        print('_____________________________________________________________________________')\n",
    "        print(f'I = {mu_b, mu_u}\\n\\\n",
    "estimation = {mu_estimated}\\n\\\n",
    "with accuracy = {mu_accuracy}')\n",
    "        sigma_b = (len(data) - 1) * S/sts.chi2(len(data) - 1).isf(alpha/2)\n",
    "        sigma_u = (len(data) - 1) * S/sts.chi2(len(data) - 1).isf(1 - alpha/2)\n",
    "        sigma_estimated = (sigma_b + sigma_u)/2\n",
    "        sigma_accuracy = (sigma_u - sigma_b)/2\n",
    "        print('_____________________________________________________________________________')\n",
    "        print(f'I = {sigma_b, sigma_u}\\n\\\n",
    "estimation = {sigma_estimated}\\n\\\n",
    "with accuracy = {sigma_accuracy}')\n",
    "    elif type_ == '4':\n",
    "        X_next_b = data.mean() - sts.t(len(data) - 1).isf(alpha/2) * data.std(ddof = 1) * math.sqrt(1 + 1/len(data))\n",
    "        X_next_u = data.mean() + sts.t(len(data) - 1).isf(alpha/2) * data.std(ddof = 1) * math.sqrt(1 + 1/len(data))\n",
    "        X_next_estimated = (X_next_b + X_next_u)/2\n",
    "        X_next_accuracy = (X_next_u - X_next_b)/2\n",
    "        print('_____________________________________________________________________________')\n",
    "        print(f'I = {X_next_b, X_next_u}\\n\\\n",
    "estimation = {X_next_estimated}\\n\\\n",
    "with accuracy = {X_next_accuracy}')\n",
    "    elif type_ == '5':\n",
    "        X = data[:, 0]\n",
    "        Y = data[:, 1]\n",
    "        r = np.corrcoef(X, Y)[0][1]\n",
    "        r_b = math.tanh(1/2 * math.log((1 + r)/(1 - r)) - sts.norm.isf(alpha/2)/math.sqrt(len(X) - 3))\n",
    "        r_u = math.tanh(1/2 * math.log((1 + r)/(1 - r)) + sts.norm.isf(alpha/2)/math.sqrt(len(X) - 3))\n",
    "        r_estimated = (r_b + r_u)/2\n",
    "        r_accuracy = (r_u - r_b)/2\n",
    "        print('_____________________________________________________________________________')\n",
    "        print(f'I = {r_b, r_u}\\n\\\n",
    "estimation = {r_estimated}\\n\\\n",
    "with accuracy = {r_accuracy}')\n",
    "    elif type_ == '6':\n",
    "        if data is None:\n",
    "            p_sample = float(input('Enter a sample share'))\n",
    "            n = int(input('Enter the volume of the sample'))\n",
    "            approximation = input('Approximation: True or False')\n",
    "            Z = sts.norm(0, 1)\n",
    "            if approximation:\n",
    "                theta_1 = p_sample - Z.isf(alpha/2) * math.sqrt(p_sample * (1 - p_sample)/n)\n",
    "                theta_1 = p_sample + Z.isf(alpha/2) * math.sqrt(p_sample * (1 - p_sample)/n)\n",
    "                accuracy = (theta_2 - theta_1)/2\n",
    "                estimation = (theta_2 + theta_1)/2\n",
    "                print('_____________________________________________________________________________')\n",
    "                print(f'I = {theta_1, theta_2}\\n\\\n",
    "estimation = {estimation}\\n\\\n",
    "with accuracy = {accuracy}')\n",
    "            else:\n",
    "                theta_1 = (p_sample + Z.isf(alpha/2)**2/(2 * n) - Z.isf(alpha/2) * math.sqrt(p_sample * (1 - p_sample_)/n + Z.isf(alpha/2)**2/(4 * n**2)))/(1 + Z.isf(alpha/2)**2/n)\n",
    "                theta_2 = (p_sample + Z.isf(alpha/2)**2/(2 * n) + Z.isf(alpha/2) * math.sqrt(p_sample * (1 - p_sample_)/n + Z.isf(alpha/2)**2/(4 * n**2)))/(1 + Z.isf(alpha/2)**2/n)\n",
    "                accuracy = (theta_2 - theta_1)/2\n",
    "                estimation = (theta_2 + theta_1)/2\n",
    "                print('_____________________________________________________________________________')\n",
    "                print(f'I = {theta_1, theta_2}\\n\\\n",
    "estimation = {estimation}\\n\\\n",
    "with accuracy = {accuracy}')\n",
    "        else:\n",
    "            number = float(input('Input the value of the attribute'))\n",
    "            p_sample = len(len(data[data == number]))/len(data)\n",
    "            approximation = input('Approximation: True or False')\n",
    "            Z = sts.norm(0, 1)\n",
    "            if approximation:\n",
    "                theta_1 = p_sample - Z.isf(alpha/2) * math.sqrt(p_sample * (1 - p_sample)/len(data))\n",
    "                theta_1 = p_sample + Z.isf(alpha/2) * math.sqrt(p_sample * (1 - p_sample)/len(data))\n",
    "                accuracy = (theta_2 - theta_1)/2\n",
    "                estimation = (theta_2 + theta_1)/2\n",
    "                print('_____________________________________________________________________________')\n",
    "                print(f'I = {theta_1, theta_2}\\n\\\n",
    "estimation = {estimation}\\n\\\n",
    "with accuracy = {accuracy}')\n",
    "            else:\n",
    "                theta_1 = (p_sample + Z.isf(alpha/2)**2/(2 * len(data)) - Z.isf(alpha/2) * math.sqrt(p_sample * (1 - p_sample_)/len(data) + Z.isf(alpha/2)**2/(4 * len(data)**2)))/(1 + Z.isf(alpha/2)**2/len(data))\n",
    "                theta_2 = (p_sample + Z.isf(alpha/2)**2/(2 * len(data)) + Z.isf(alpha/2) * math.sqrt(p_sample * (1 - p_sample_)/len(data) + Z.isf(alpha/2)**2/(4 * len(data)**2)))/(1 + Z.isf(alpha/2)**2/len(data))\n",
    "                accuracy = (theta_2 - theta_1)/2\n",
    "                estimation = (theta_2 + theta_1)/2\n",
    "                print('_____________________________________________________________________________')\n",
    "                print(f'I = {theta_1, theta_2}\\n\\\n",
    "estimation = {estimation}\\n\\\n",
    "with accuracy = {accuracy}')"
   ]
  },
  {
   "cell_type": "code",
   "execution_count": 12,
   "id": "8c96f7d6",
   "metadata": {},
   "outputs": [],
   "source": [
    "data = np.array([235032, 40000, 255446, 115200, 40000, 40000, 40000, 53368])"
   ]
  },
  {
   "cell_type": "code",
   "execution_count": 13,
   "id": "8adadb44",
   "metadata": {},
   "outputs": [
    {
     "name": "stdout",
     "output_type": "stream",
     "text": [
      "Choose type\n",
      " 1. Confidence interval for the mean with known variance\n",
      " 2.Confidence interval for the varience with known mean\n",
      "3. Both parameters are unknown\n",
      "4. Prediction interval\n",
      "5. Correlation coefficient for a multinomial distribution\n",
      "6. Confidence interval for the fraction\n",
      "3\n",
      "_____________________________________________________________________________\n",
      "I = (25525.694024412558, 179235.80597558746)\n",
      "estimation = 102380.75\n",
      "with accuracy = 76855.05597558746\n",
      "_____________________________________________________________________________\n",
      "I = (40187.13326213569, 380802.90424715314)\n",
      "estimation = 210495.0187546444\n",
      "with accuracy = 170307.88549250874\n"
     ]
    }
   ],
   "source": [
    "confidence_interval(0.05, data)"
   ]
  },
  {
   "cell_type": "code",
   "execution_count": 14,
   "id": "3fae4e72",
   "metadata": {},
   "outputs": [
    {
     "data": {
      "text/plain": [
       "200.46728726187646"
      ]
     },
     "execution_count": 14,
     "metadata": {},
     "output_type": "execute_result"
    }
   ],
   "source": [
    "np.sqrt(40187.13326213569)"
   ]
  },
  {
   "cell_type": "code",
   "execution_count": 15,
   "id": "165a1ed7",
   "metadata": {},
   "outputs": [
    {
     "data": {
      "text/plain": [
       "617.0922979969472"
      ]
     },
     "execution_count": 15,
     "metadata": {},
     "output_type": "execute_result"
    }
   ],
   "source": [
    "np.sqrt(380802.90424715314)"
   ]
  },
  {
   "cell_type": "code",
   "execution_count": null,
   "id": "465d817d",
   "metadata": {},
   "outputs": [],
   "source": [
    "%lprun \n",
    "s - s/np.sqrt(len(data))"
   ]
  }
 ],
 "metadata": {
  "kernelspec": {
   "display_name": "Python 3 (ipykernel)",
   "language": "python",
   "name": "python3"
  },
  "language_info": {
   "codemirror_mode": {
    "name": "ipython",
    "version": 3
   },
   "file_extension": ".py",
   "mimetype": "text/x-python",
   "name": "python",
   "nbconvert_exporter": "python",
   "pygments_lexer": "ipython3",
   "version": "3.9.7"
  }
 },
 "nbformat": 4,
 "nbformat_minor": 5
}
